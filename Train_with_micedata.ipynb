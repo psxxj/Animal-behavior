{
 "cells": [
  {
   "cell_type": "code",
   "execution_count": 1,
   "id": "1eb3da27-83b6-4619-98f6-a024f16cadde",
   "metadata": {},
   "outputs": [
    {
     "name": "stderr",
     "output_type": "stream",
     "text": [
      "C:\\Users\\Ripon\\Anaconda3\\envs\\MLDL\\lib\\site-packages\\tqdm\\auto.py:22: TqdmWarning: IProgress not found. Please update jupyter and ipywidgets. See https://ipywidgets.readthedocs.io/en/stable/user_install.html\n",
      "  from .autonotebook import tqdm as notebook_tqdm\n"
     ]
    }
   ],
   "source": [
    "import torch\n",
    "import torch.nn as nn\n",
    "import torch.optim as optim\n",
    "from torch.optim import lr_scheduler\n",
    "import numpy as np\n",
    "import torchvision\n",
    "from torchvision import datasets, models, transforms\n",
    "\n",
    "from PIL import Image\n",
    "import matplotlib.pyplot as plt\n",
    "import time\n",
    "import os\n",
    "import copy"
   ]
  },
  {
   "cell_type": "markdown",
   "id": "ce4bd436-cf7e-49be-90a5-d752309c2198",
   "metadata": {},
   "source": [
    "from PIL import Image\n",
    "\n",
    "img = Image.open('./EPM_12_image/2610.png')\n",
    "plt.imshow(img)"
   ]
  },
  {
   "cell_type": "markdown",
   "id": "331d1e04-8bea-4973-b899-07e1d79b0d4d",
   "metadata": {},
   "source": [
    "img3 = np.asarray(img)[150:850, 250:950]\n",
    "plt.imshow(img3)"
   ]
  },
  {
   "cell_type": "markdown",
   "id": "d8618767-a9d9-47e9-ba99-41ac32b29270",
   "metadata": {},
   "source": [
    "img3.shape"
   ]
  },
  {
   "cell_type": "markdown",
   "id": "9928ba60-fb4e-4d21-981d-49f68bd2b9bf",
   "metadata": {},
   "source": [
    "df = pd.DataFrame(df)"
   ]
  },
  {
   "cell_type": "code",
   "execution_count": 2,
   "id": "d8aa66de-e99b-404f-8cb7-fb8574a11a54",
   "metadata": {},
   "outputs": [
    {
     "name": "stdout",
     "output_type": "stream",
     "text": [
      "Index(['frame', 'label'], dtype='object')\n"
     ]
    }
   ],
   "source": [
    "# need to crop all the images to get only the mouse image\n",
    "# rading xlxs files for the images and labels\n",
    "import pandas as pd\n",
    "df = pd.read_excel('./EMP_12xlsx.xlsx')\n",
    "print(df.columns)\n",
    "#df['frame'], df['label']\n",
    "#dropping null values\n",
    "df = df.dropna()\n",
    "images = [f'./EPM_12_image/{int(i)}.png' for i in df['frame']]\n",
    "labels = df['label']"
   ]
  },
  {
   "cell_type": "markdown",
   "id": "b3bf7075-b359-4480-905f-74256981867c",
   "metadata": {},
   "source": [
    "img = Image.open(images[1])\n",
    "plt.imshow(img)"
   ]
  },
  {
   "cell_type": "code",
   "execution_count": 3,
   "id": "406603c2-d452-45f1-8d49-af43c0376949",
   "metadata": {},
   "outputs": [
    {
     "data": {
      "text/plain": [
       "(300, 300)"
      ]
     },
     "execution_count": 3,
     "metadata": {},
     "output_type": "execute_result"
    }
   ],
   "source": [
    "len(images), len(labels)"
   ]
  },
  {
   "cell_type": "code",
   "execution_count": 4,
   "id": "e027d19d-2a60-4571-ad3f-fd280e2d16e9",
   "metadata": {},
   "outputs": [],
   "source": [
    "# there are seperate transfromation func for PIL and Tensor. SO chcek again if you are using the correct ones\n",
    "def get_train_transform():\n",
    "    return torchvision.transforms.Compose([\n",
    "    transforms.ToTensor(),\n",
    "    transforms.Resize((224, 224)),\n",
    "    transforms.GaussianBlur(kernel_size=(5,9), sigma=(0.1, 5)),\n",
    "    transforms.Normalize([0.485, 0.456, 0.406], [0.229, 0.224, 0.225]),\n",
    "    transforms.RandomRotation(degrees=(0,100)),\n",
    "    #transforms.RandomInvert(),\n",
    "    #transforms.RandomAdjustSharpness(sharpness_factor=2),isnot a good choice for the dataste\n",
    "    #transforms.RandomAutocontrast(), isnot a good choice for the dataste\n",
    "    transforms.RandomVerticalFlip(),\n",
    "    transforms.RandomHorizontalFlip(),\n",
    "])\n",
    "\n",
    "def get_test_transform():\n",
    "    return torchvision.transforms.Compose([\n",
    "    transforms.ToTensor(),\n",
    "    transforms.Resize((224, 224))])"
   ]
  },
  {
   "cell_type": "code",
   "execution_count": 5,
   "id": "1ff0340b-723b-44f2-b91a-53e143eee166",
   "metadata": {},
   "outputs": [],
   "source": [
    "from sklearn.model_selection import train_test_split"
   ]
  },
  {
   "cell_type": "code",
   "execution_count": 6,
   "id": "53d539ae-c450-46e3-b834-46d9f226d275",
   "metadata": {},
   "outputs": [],
   "source": [
    "X_train, X_test, y_train, y_test = train_test_split(images, labels, \n",
    "                                             test_size=0.30, random_state=42)"
   ]
  },
  {
   "cell_type": "code",
   "execution_count": 7,
   "id": "f1f9ff69-6cf9-4cfc-a62e-fc13bf811142",
   "metadata": {},
   "outputs": [],
   "source": [
    "y_train = [i for i in y_train]\n",
    "y_test = [i for i in y_test]"
   ]
  },
  {
   "cell_type": "code",
   "execution_count": 8,
   "id": "029dee58-89af-4288-b6b2-624a18550957",
   "metadata": {},
   "outputs": [
    {
     "data": {
      "text/plain": [
       "(210, 90, 210, 90)"
      ]
     },
     "execution_count": 8,
     "metadata": {},
     "output_type": "execute_result"
    }
   ],
   "source": [
    "len(X_train), len(X_test), len(y_train), len(y_test)"
   ]
  },
  {
   "cell_type": "code",
   "execution_count": 9,
   "id": "22f61cd1-3c23-46dc-ba67-c9612f4e6fcb",
   "metadata": {},
   "outputs": [
    {
     "data": {
      "text/plain": [
       "(array(['heading up', 'heading up and rearing', 'moving alone', 'rearing',\n",
       "        'stopeed alone', 'stopeed huddled', 'stoping alone',\n",
       "        'stopped alone', 'stopped huddled', 'stretched attennd posture'],\n",
       "       dtype='<U25'),\n",
       " 10,\n",
       " array(['heading up', 'heading up and rearing', 'moving alone',\n",
       "        'stopeed huddled', 'stopped alone', 'stopped huddled',\n",
       "        'stretched attennd posture'], dtype='<U25'),\n",
       " 7)"
      ]
     },
     "execution_count": 9,
     "metadata": {},
     "output_type": "execute_result"
    }
   ],
   "source": [
    "np.unique(y_train),len(np.unique(y_train)), np.unique(y_test), len(np.unique(y_test))"
   ]
  },
  {
   "cell_type": "code",
   "execution_count": 10,
   "id": "6b98e378-d222-4d8b-9de3-4cd46908a0b6",
   "metadata": {},
   "outputs": [
    {
     "data": {
      "text/plain": [
       "(array(['moving alone', 'stoping alone', 'heading up', 'rearing',\n",
       "        'stopped huddled', 'heading up and rearing', 'stopped alone',\n",
       "        'stopeed huddled', 'stretched attennd posture', 'stopeed alone'],\n",
       "       dtype=object),\n",
       " 10)"
      ]
     },
     "execution_count": 10,
     "metadata": {},
     "output_type": "execute_result"
    }
   ],
   "source": [
    "labels.unique(), len(labels.unique())"
   ]
  },
  {
   "cell_type": "code",
   "execution_count": 11,
   "id": "e756cee7-48a0-4410-bfe9-ba71cba5d244",
   "metadata": {},
   "outputs": [
    {
     "data": {
      "text/plain": [
       "[109, 1, 45, 9, 53, 44, 27, 3, 8, 1]"
      ]
     },
     "execution_count": 11,
     "metadata": {},
     "output_type": "execute_result"
    }
   ],
   "source": [
    "#counting data for each label\n",
    "labels_count = [len(labels[labels==i]) for i in labels.unique()]\n",
    "labels_count"
   ]
  },
  {
   "cell_type": "code",
   "execution_count": 12,
   "id": "735d12cd-546c-4acb-ac0b-0add870a4af5",
   "metadata": {},
   "outputs": [
    {
     "data": {
      "text/plain": [
       "{'moving alone': 0,\n",
       " 'stoping alone': 1,\n",
       " 'heading up': 2,\n",
       " 'rearing': 3,\n",
       " 'stopped huddled': 4,\n",
       " 'heading up and rearing': 5,\n",
       " 'stopped alone': 6,\n",
       " 'stopeed huddled': 7,\n",
       " 'stretched attennd posture': 8,\n",
       " 'stopeed alone': 9}"
      ]
     },
     "execution_count": 12,
     "metadata": {},
     "output_type": "execute_result"
    }
   ],
   "source": [
    "#assigning class index to every class\n",
    "classes = labels.unique()\n",
    "\n",
    "for cls in classes:\n",
    "    class_to_int = {classes[i]: i for i in range(len(classes))}\n",
    "class_to_int"
   ]
  },
  {
   "cell_type": "code",
   "execution_count": 13,
   "id": "21bd9361-fe3f-4f42-a6fd-46a1605505a0",
   "metadata": {},
   "outputs": [],
   "source": [
    "### Loading Classification Dataset: Using iterator.\n",
    "# In the secind case using ___getitem__ is used for reading each imagemr\n",
    "\n",
    "from torch.utils.data import DataLoader,Dataset\n",
    "class MiceDataset(Dataset):\n",
    "    \n",
    "    def __init__(self, data_set, class_labels, class_to_int, transforms = None):\n",
    "        \n",
    "        super().__init__()\n",
    "        self.data_set = data_set\n",
    "        self.class_to_int = class_to_int\n",
    "        self.class_labels = class_labels\n",
    "        self.transforms = transforms\n",
    "        \n",
    "        \n",
    "    def __getitem__(self, index):\n",
    "        \n",
    "        image= Image.open(self.data_set[index])\n",
    "        #croping image\n",
    "        image = np.asarray(image)[150:850, 250:950]\n",
    "        \n",
    "        label = self.class_labels[index]\n",
    "        label = self.class_to_int[label]\n",
    "        \n",
    "        \n",
    "        #Applying transforms on image\n",
    "        if self.transforms:\n",
    "            image = self.transforms(image)\n",
    "        \n",
    "        #return image, label\n",
    "        return image, label\n",
    "        \n",
    "    #its not important though   \n",
    "    def __len__(self):\n",
    "        #print (len(self.imgs_list))\n",
    "        return (len(self.data_set))"
   ]
  },
  {
   "cell_type": "code",
   "execution_count": 14,
   "id": "62803052-dac9-41fa-8012-d0f0cb342981",
   "metadata": {},
   "outputs": [],
   "source": [
    "import torchvision.transforms\n",
    "train_dataset = MiceDataset(X_train, y_train, class_to_int, transforms=get_train_transform())\n",
    "test_dataset = MiceDataset(X_test, y_test, class_to_int, transforms=get_test_transform())"
   ]
  },
  {
   "cell_type": "code",
   "execution_count": 17,
   "id": "03ffab3f-cec0-4e07-b141-05ef81df54a7",
   "metadata": {},
   "outputs": [],
   "source": [
    "from torch.utils.data import random_split, RandomSampler\n",
    "#Data Loader  -  using Sampler \n",
    "train_random_sampler = RandomSampler(train_dataset)\n",
    "test_random_sampler = RandomSampler(test_dataset)\n",
    "\n",
    "# dataloader\n",
    "train_data_loader = DataLoader(dataset=train_dataset, batch_size=16, sampler=train_random_sampler, num_workers=0)\n",
    "test_data_loader = DataLoader(dataset=test_dataset, batch_size=16, sampler=test_random_sampler, num_workers=0)"
   ]
  },
  {
   "cell_type": "code",
   "execution_count": 18,
   "id": "3bc668df-f95f-4763-819b-18add2835e3e",
   "metadata": {},
   "outputs": [
    {
     "data": {
      "text/plain": [
       "[tensor([[[[0., 0., 0.,  ..., 0., 0., 0.],\n",
       "           [0., 0., 0.,  ..., 0., 0., 0.],\n",
       "           [0., 0., 0.,  ..., 0., 0., 0.],\n",
       "           ...,\n",
       "           [0., 0., 0.,  ..., 0., 0., 0.],\n",
       "           [0., 0., 0.,  ..., 0., 0., 0.],\n",
       "           [0., 0., 0.,  ..., 0., 0., 0.]],\n",
       " \n",
       "          [[0., 0., 0.,  ..., 0., 0., 0.],\n",
       "           [0., 0., 0.,  ..., 0., 0., 0.],\n",
       "           [0., 0., 0.,  ..., 0., 0., 0.],\n",
       "           ...,\n",
       "           [0., 0., 0.,  ..., 0., 0., 0.],\n",
       "           [0., 0., 0.,  ..., 0., 0., 0.],\n",
       "           [0., 0., 0.,  ..., 0., 0., 0.]],\n",
       " \n",
       "          [[0., 0., 0.,  ..., 0., 0., 0.],\n",
       "           [0., 0., 0.,  ..., 0., 0., 0.],\n",
       "           [0., 0., 0.,  ..., 0., 0., 0.],\n",
       "           ...,\n",
       "           [0., 0., 0.,  ..., 0., 0., 0.],\n",
       "           [0., 0., 0.,  ..., 0., 0., 0.],\n",
       "           [0., 0., 0.,  ..., 0., 0., 0.]]],\n",
       " \n",
       " \n",
       "         [[[0., 0., 0.,  ..., 0., 0., 0.],\n",
       "           [0., 0., 0.,  ..., 0., 0., 0.],\n",
       "           [0., 0., 0.,  ..., 0., 0., 0.],\n",
       "           ...,\n",
       "           [0., 0., 0.,  ..., 0., 0., 0.],\n",
       "           [0., 0., 0.,  ..., 0., 0., 0.],\n",
       "           [0., 0., 0.,  ..., 0., 0., 0.]],\n",
       " \n",
       "          [[0., 0., 0.,  ..., 0., 0., 0.],\n",
       "           [0., 0., 0.,  ..., 0., 0., 0.],\n",
       "           [0., 0., 0.,  ..., 0., 0., 0.],\n",
       "           ...,\n",
       "           [0., 0., 0.,  ..., 0., 0., 0.],\n",
       "           [0., 0., 0.,  ..., 0., 0., 0.],\n",
       "           [0., 0., 0.,  ..., 0., 0., 0.]],\n",
       " \n",
       "          [[0., 0., 0.,  ..., 0., 0., 0.],\n",
       "           [0., 0., 0.,  ..., 0., 0., 0.],\n",
       "           [0., 0., 0.,  ..., 0., 0., 0.],\n",
       "           ...,\n",
       "           [0., 0., 0.,  ..., 0., 0., 0.],\n",
       "           [0., 0., 0.,  ..., 0., 0., 0.],\n",
       "           [0., 0., 0.,  ..., 0., 0., 0.]]],\n",
       " \n",
       " \n",
       "         [[[0., 0., 0.,  ..., 0., 0., 0.],\n",
       "           [0., 0., 0.,  ..., 0., 0., 0.],\n",
       "           [0., 0., 0.,  ..., 0., 0., 0.],\n",
       "           ...,\n",
       "           [0., 0., 0.,  ..., 0., 0., 0.],\n",
       "           [0., 0., 0.,  ..., 0., 0., 0.],\n",
       "           [0., 0., 0.,  ..., 0., 0., 0.]],\n",
       " \n",
       "          [[0., 0., 0.,  ..., 0., 0., 0.],\n",
       "           [0., 0., 0.,  ..., 0., 0., 0.],\n",
       "           [0., 0., 0.,  ..., 0., 0., 0.],\n",
       "           ...,\n",
       "           [0., 0., 0.,  ..., 0., 0., 0.],\n",
       "           [0., 0., 0.,  ..., 0., 0., 0.],\n",
       "           [0., 0., 0.,  ..., 0., 0., 0.]],\n",
       " \n",
       "          [[0., 0., 0.,  ..., 0., 0., 0.],\n",
       "           [0., 0., 0.,  ..., 0., 0., 0.],\n",
       "           [0., 0., 0.,  ..., 0., 0., 0.],\n",
       "           ...,\n",
       "           [0., 0., 0.,  ..., 0., 0., 0.],\n",
       "           [0., 0., 0.,  ..., 0., 0., 0.],\n",
       "           [0., 0., 0.,  ..., 0., 0., 0.]]],\n",
       " \n",
       " \n",
       "         ...,\n",
       " \n",
       " \n",
       "         [[[0., 0., 0.,  ..., 0., 0., 0.],\n",
       "           [0., 0., 0.,  ..., 0., 0., 0.],\n",
       "           [0., 0., 0.,  ..., 0., 0., 0.],\n",
       "           ...,\n",
       "           [0., 0., 0.,  ..., 0., 0., 0.],\n",
       "           [0., 0., 0.,  ..., 0., 0., 0.],\n",
       "           [0., 0., 0.,  ..., 0., 0., 0.]],\n",
       " \n",
       "          [[0., 0., 0.,  ..., 0., 0., 0.],\n",
       "           [0., 0., 0.,  ..., 0., 0., 0.],\n",
       "           [0., 0., 0.,  ..., 0., 0., 0.],\n",
       "           ...,\n",
       "           [0., 0., 0.,  ..., 0., 0., 0.],\n",
       "           [0., 0., 0.,  ..., 0., 0., 0.],\n",
       "           [0., 0., 0.,  ..., 0., 0., 0.]],\n",
       " \n",
       "          [[0., 0., 0.,  ..., 0., 0., 0.],\n",
       "           [0., 0., 0.,  ..., 0., 0., 0.],\n",
       "           [0., 0., 0.,  ..., 0., 0., 0.],\n",
       "           ...,\n",
       "           [0., 0., 0.,  ..., 0., 0., 0.],\n",
       "           [0., 0., 0.,  ..., 0., 0., 0.],\n",
       "           [0., 0., 0.,  ..., 0., 0., 0.]]],\n",
       " \n",
       " \n",
       "         [[[0., 0., 0.,  ..., 0., 0., 0.],\n",
       "           [0., 0., 0.,  ..., 0., 0., 0.],\n",
       "           [0., 0., 0.,  ..., 0., 0., 0.],\n",
       "           ...,\n",
       "           [0., 0., 0.,  ..., 0., 0., 0.],\n",
       "           [0., 0., 0.,  ..., 0., 0., 0.],\n",
       "           [0., 0., 0.,  ..., 0., 0., 0.]],\n",
       " \n",
       "          [[0., 0., 0.,  ..., 0., 0., 0.],\n",
       "           [0., 0., 0.,  ..., 0., 0., 0.],\n",
       "           [0., 0., 0.,  ..., 0., 0., 0.],\n",
       "           ...,\n",
       "           [0., 0., 0.,  ..., 0., 0., 0.],\n",
       "           [0., 0., 0.,  ..., 0., 0., 0.],\n",
       "           [0., 0., 0.,  ..., 0., 0., 0.]],\n",
       " \n",
       "          [[0., 0., 0.,  ..., 0., 0., 0.],\n",
       "           [0., 0., 0.,  ..., 0., 0., 0.],\n",
       "           [0., 0., 0.,  ..., 0., 0., 0.],\n",
       "           ...,\n",
       "           [0., 0., 0.,  ..., 0., 0., 0.],\n",
       "           [0., 0., 0.,  ..., 0., 0., 0.],\n",
       "           [0., 0., 0.,  ..., 0., 0., 0.]]],\n",
       " \n",
       " \n",
       "         [[[0., 0., 0.,  ..., 0., 0., 0.],\n",
       "           [0., 0., 0.,  ..., 0., 0., 0.],\n",
       "           [0., 0., 0.,  ..., 0., 0., 0.],\n",
       "           ...,\n",
       "           [0., 0., 0.,  ..., 0., 0., 0.],\n",
       "           [0., 0., 0.,  ..., 0., 0., 0.],\n",
       "           [0., 0., 0.,  ..., 0., 0., 0.]],\n",
       " \n",
       "          [[0., 0., 0.,  ..., 0., 0., 0.],\n",
       "           [0., 0., 0.,  ..., 0., 0., 0.],\n",
       "           [0., 0., 0.,  ..., 0., 0., 0.],\n",
       "           ...,\n",
       "           [0., 0., 0.,  ..., 0., 0., 0.],\n",
       "           [0., 0., 0.,  ..., 0., 0., 0.],\n",
       "           [0., 0., 0.,  ..., 0., 0., 0.]],\n",
       " \n",
       "          [[0., 0., 0.,  ..., 0., 0., 0.],\n",
       "           [0., 0., 0.,  ..., 0., 0., 0.],\n",
       "           [0., 0., 0.,  ..., 0., 0., 0.],\n",
       "           ...,\n",
       "           [0., 0., 0.,  ..., 0., 0., 0.],\n",
       "           [0., 0., 0.,  ..., 0., 0., 0.],\n",
       "           [0., 0., 0.,  ..., 0., 0., 0.]]]]),\n",
       " tensor([2, 4, 2, 0, 6, 5, 2, 5, 6, 0, 7, 5, 6, 5, 4, 2])]"
      ]
     },
     "execution_count": 18,
     "metadata": {},
     "output_type": "execute_result"
    }
   ],
   "source": [
    "next(iter(train_data_loader))"
   ]
  },
  {
   "cell_type": "code",
   "execution_count": 19,
   "id": "dd650147-5a0b-42f6-b2a1-319d7f6835c8",
   "metadata": {},
   "outputs": [],
   "source": [
    "def get_default_device():\n",
    "    \"\"\"Pick GPU if available, else CPU\"\"\"\n",
    "    if torch.cuda.is_available():\n",
    "        return torch.device('cuda')\n",
    "    else:\n",
    "        return torch.device('cpu')\n",
    "    \n",
    "def to_device(data, device):\n",
    "    \"\"\"Move tensor(s) to chosen device\"\"\"\n",
    "    if isinstance(data, (list,tuple)):\n",
    "        return [to_device(x, device) for x in data]\n",
    "    return data.to(device, non_blocking=True)\n",
    "\n",
    "class DeviceDataLoader():\n",
    "    \"\"\"Wrap a dataloader to move data to a device\"\"\"\n",
    "    def __init__(self, dl, device):\n",
    "        self.dl = dl\n",
    "        self.device = device\n",
    "        \n",
    "    def __iter__(self):\n",
    "        \"\"\"Yield a batch of data after moving it to device\"\"\"\n",
    "        for b in self.dl: \n",
    "            yield to_device(b, self.device)\n",
    "\n",
    "    def __len__(self):\n",
    "        \"\"\"Number of batches\"\"\"\n",
    "        return len(self.dl)    "
   ]
  },
  {
   "cell_type": "code",
   "execution_count": 20,
   "id": "1b2bc96b-a303-4dc2-b404-1f39e4d94ea4",
   "metadata": {},
   "outputs": [
    {
     "data": {
      "text/plain": [
       "device(type='cuda')"
      ]
     },
     "execution_count": 20,
     "metadata": {},
     "output_type": "execute_result"
    }
   ],
   "source": [
    "device = get_default_device()\n",
    "device"
   ]
  },
  {
   "cell_type": "markdown",
   "id": "143c68a2-709d-410d-8a8a-dd33ffdf5df7",
   "metadata": {},
   "source": [
    "# Transfering data to the device in use (In our case GPU)\n",
    "train_dl = DeviceDataLoader(train_data_loader, device)\n",
    "valid_dl = DeviceDataLoader(test_data_loader, device)"
   ]
  },
  {
   "cell_type": "code",
   "execution_count": 21,
   "id": "7a22abf0-313b-4647-979a-6aef3694a40b",
   "metadata": {},
   "outputs": [],
   "source": [
    "dataloaders = {'train':train_data_loader, 'test':test_data_loader}"
   ]
  },
  {
   "cell_type": "code",
   "execution_count": 22,
   "id": "3c777f70-0139-486e-875d-556f7747d00f",
   "metadata": {},
   "outputs": [],
   "source": [
    "dataset_sizes = {'train':len(X_train), 'test':len(X_test)}"
   ]
  },
  {
   "cell_type": "code",
   "execution_count": 23,
   "id": "c5dec80a-cee6-46c7-b640-e5860d1af2bb",
   "metadata": {},
   "outputs": [],
   "source": [
    "from PIL import Image"
   ]
  },
  {
   "cell_type": "markdown",
   "id": "f7bf2379-3cdf-4bcb-9233-12b27dd54a9a",
   "metadata": {},
   "source": [
    "next(iter(train_data_loader))"
   ]
  },
  {
   "cell_type": "markdown",
   "id": "b58a2e88-ce25-45a8-a309-b2474ae8a0a3",
   "metadata": {},
   "source": [
    "#training"
   ]
  },
  {
   "cell_type": "code",
   "execution_count": 24,
   "id": "60ad809b-38ab-4d30-8303-3495751b184c",
   "metadata": {},
   "outputs": [],
   "source": [
    "from tqdm import tqdm\n",
    "def train_model(model, criterion, optimizer, scheduler, num_epochs=25):\n",
    "    since = time.time()\n",
    "\n",
    "    best_model_wts = copy.deepcopy(model.state_dict())\n",
    "    best_acc = 0.0\n",
    "    \n",
    "    result = {'train_acc':[], 'train_loss':[], 'valid_acc':[], 'valid_loss':[]}\n",
    "\n",
    "    for epoch in range(num_epochs):\n",
    "        print('Epoch {}/{}'.format(epoch, num_epochs - 1))\n",
    "        print('-' * 10)\n",
    "\n",
    "        # Each epoch has a training and validation phase\n",
    "        for phase in ['train', 'test']:\n",
    "            if phase == 'train':\n",
    "                model.train()  # Set model to training mode\n",
    "                #print('training...')\n",
    "            else:\n",
    "                model.eval()   # Set model to evaluate mode\n",
    "\n",
    "            running_loss = 0.0\n",
    "            running_corrects = 0\n",
    "\n",
    "            # Iterate over data.\n",
    "            for inputs, labels in tqdm(dataloaders[phase]):\n",
    "                inputs = inputs.to(device)\n",
    "                labels = labels.to(device)\n",
    "                \n",
    "                #print('dataloader phase: training')\n",
    "\n",
    "                # zero the parameter gradients\n",
    "                optimizer.zero_grad()\n",
    "\n",
    "                # forward\n",
    "                # track history if only in train\n",
    "                with torch.set_grad_enabled(phase == 'train'):\n",
    "                    outputs = model(inputs)\n",
    "                    #outputs = model(inputs).softmax(dim=1)\n",
    "                    \n",
    "                    '''printing '''\n",
    "                    #print(f'outputs: {outputs}')\n",
    "                    '''trying out the softmax'''\n",
    "                    #print(f'softmax: {outputs.softmax(dim=1)}')\n",
    "                    \n",
    "                    pred_values, preds_indc = torch.max(outputs, 1)\n",
    "                    loss = criterion(outputs, labels)\n",
    "                    \n",
    "                    '''printing '''\n",
    "                   # print(f'loss: {loss}')\n",
    "\n",
    "                    # backward + optimize only if in training phase\n",
    "                    if phase == 'train':\n",
    "                        loss.backward()\n",
    "                        optimizer.step()\n",
    "\n",
    "                # statistics\n",
    "                running_loss += loss.item() * inputs.size(0)\n",
    "                running_corrects += torch.sum(preds_indc == labels.data)\n",
    "                '''can be done something here for calculating accuracy\n",
    "                but I donot know how to use the prediction value to calculate the accuracy'''\n",
    "                \n",
    "                \n",
    "            if phase == 'train':\n",
    "                scheduler.step()\n",
    "\n",
    "            epoch_loss = running_loss / dataset_sizes[phase]\n",
    "            epoch_acc = running_corrects.double() / dataset_sizes[phase]\n",
    "\n",
    "            print('{} Loss: {:.4f} Acc: {:.4f}'.format(phase, epoch_loss, epoch_acc))\n",
    "            #print(outputs) # wanna see the outputs\n",
    "            \n",
    "            if phase =='train':\n",
    "                result['train_acc'].append(epoch_acc)\n",
    "                result['train_loss'].append(epoch_loss)\n",
    "            else:\n",
    "                result['valid_acc'].append(epoch_acc)\n",
    "                result['valid_loss'].append(epoch_loss)\n",
    "\n",
    "            # deep copy the model\n",
    "            if phase == 'test' and epoch_acc > best_acc:\n",
    "                best_acc = epoch_acc\n",
    "                best_model_wts = copy.deepcopy(model.state_dict())\n",
    "    #print(result)\n",
    "\n",
    "    time_elapsed = time.time() - since\n",
    "    print('Training complete in {:.0f}m {:.0f}s'.format(\n",
    "        time_elapsed // 60, time_elapsed % 60))\n",
    "    print('Best val Acc: {:4f}'.format(best_acc))\n",
    "\n",
    "    # load best model weights\n",
    "    model.load_state_dict(best_model_wts)\n",
    "    return model, result"
   ]
  },
  {
   "cell_type": "code",
   "execution_count": 25,
   "id": "ac7afb5b-bb50-405c-8877-0d10d35f8513",
   "metadata": {},
   "outputs": [],
   "source": [
    "#visualizr and model prediction\n",
    "\n",
    "def visualize_model(model, num_images=6):\n",
    "    was_training = model.training\n",
    "    model.eval()\n",
    "    images_so_far = 0\n",
    "    fig = plt.figure()\n",
    "\n",
    "    with torch.no_grad():\n",
    "        for i, (inputs, labels) in enumerate(dataloaders['test']):\n",
    "            inputs = inputs.to(device)\n",
    "            labels = labels.to(device)\n",
    "\n",
    "            #outputs = model(inputs).softmax(dim=1)\n",
    "            outputs = model(inputs)\n",
    "            _, preds = torch.max(outputs, 1)\n",
    "\n",
    "            for j in range(inputs.size()[0]):\n",
    "                images_so_far += 1\n",
    "                ax = plt.subplot(num_images//2, 2, images_so_far)\n",
    "                ax.axis('off')\n",
    "                ax.set_title('predicted: {}'.format(class_names[preds[j]]) + class_names[labels[j]])\n",
    "                imshow(inputs.cpu().data[j])\n",
    "\n",
    "                if images_so_far == num_images:\n",
    "                    model.train(mode=was_training)\n",
    "                    return\n",
    "        model.train(mode=was_training)"
   ]
  },
  {
   "cell_type": "code",
   "execution_count": 26,
   "id": "7d74d901-d518-4ba2-ba87-6201128ef1e8",
   "metadata": {},
   "outputs": [],
   "source": [
    "model_ft = models.resnet152(pretrained=True)"
   ]
  },
  {
   "cell_type": "code",
   "execution_count": 27,
   "id": "63c988ec-5b76-40e6-b300-bd0957852918",
   "metadata": {},
   "outputs": [
    {
     "name": "stdout",
     "output_type": "stream",
     "text": [
      "2048\n"
     ]
    }
   ],
   "source": [
    "num_ftrs = model_ft.fc.in_features\n",
    "print(num_ftrs)"
   ]
  },
  {
   "cell_type": "code",
   "execution_count": 28,
   "id": "89a18db9-3143-4c51-b5b7-9baa675f5911",
   "metadata": {},
   "outputs": [],
   "source": [
    "#model_ft.fc = nn.Linear(num_ftrs, 6, bias=True)\n",
    "num_classes = len(labels.unique())\n",
    "model_ft.fc = nn.Sequential(nn.Linear(2048, num_classes))\n",
    "\n",
    "model_ft = model_ft.to(device)\n"
   ]
  },
  {
   "cell_type": "code",
   "execution_count": 29,
   "id": "6b1fbc27-d45a-449c-9212-aa4ffce4594a",
   "metadata": {},
   "outputs": [
    {
     "data": {
      "text/plain": [
       "10"
      ]
     },
     "execution_count": 29,
     "metadata": {},
     "output_type": "execute_result"
    }
   ],
   "source": [
    "num_classes"
   ]
  },
  {
   "cell_type": "markdown",
   "id": "cb8af263-e45f-4469-9bf0-ae0bd3e0ad7c",
   "metadata": {},
   "source": [
    "##claculating weights for each class\n",
    "samples = []\n",
    "samples = torch.tensor([len(all_files[keys]) for keys in all_files.keys()])\n",
    "sam_weights = samples/torch.sum(samples)\n",
    "inv_samples = 1/sam_weights\n",
    "loss_weight = inv_samples/torch.sum(inv_samples)\n",
    "loss_weight = loss_weight.to(device)\n",
    "loss_weight"
   ]
  },
  {
   "cell_type": "code",
   "execution_count": 30,
   "id": "4a70f357-7480-4e66-89b5-5b04891ea870",
   "metadata": {},
   "outputs": [
    {
     "name": "stdout",
     "output_type": "stream",
     "text": [
      "Epoch 0/9\n",
      "----------\n"
     ]
    },
    {
     "name": "stderr",
     "output_type": "stream",
     "text": [
      "100%|██████████████████████████████████████████████████████████████████████████████████| 14/14 [00:20<00:00,  1.43s/it]\n"
     ]
    },
    {
     "name": "stdout",
     "output_type": "stream",
     "text": [
      "train Loss: 2.0917 Acc: 0.2619\n"
     ]
    },
    {
     "name": "stderr",
     "output_type": "stream",
     "text": [
      "100%|████████████████████████████████████████████████████████████████████████████████████| 6/6 [00:04<00:00,  1.24it/s]\n"
     ]
    },
    {
     "name": "stdout",
     "output_type": "stream",
     "text": [
      "test Loss: 1.7998 Acc: 0.1111\n",
      "Epoch 1/9\n",
      "----------\n"
     ]
    },
    {
     "name": "stderr",
     "output_type": "stream",
     "text": [
      "100%|██████████████████████████████████████████████████████████████████████████████████| 14/14 [00:14<00:00,  1.02s/it]\n"
     ]
    },
    {
     "name": "stdout",
     "output_type": "stream",
     "text": [
      "train Loss: 1.9999 Acc: 0.2143\n"
     ]
    },
    {
     "name": "stderr",
     "output_type": "stream",
     "text": [
      "100%|████████████████████████████████████████████████████████████████████████████████████| 6/6 [00:04<00:00,  1.40it/s]\n"
     ]
    },
    {
     "name": "stdout",
     "output_type": "stream",
     "text": [
      "test Loss: 1.6705 Acc: 0.4333\n",
      "Epoch 2/9\n",
      "----------\n"
     ]
    },
    {
     "name": "stderr",
     "output_type": "stream",
     "text": [
      "100%|██████████████████████████████████████████████████████████████████████████████████| 14/14 [00:16<00:00,  1.18s/it]\n"
     ]
    },
    {
     "name": "stdout",
     "output_type": "stream",
     "text": [
      "train Loss: 1.8783 Acc: 0.2381\n"
     ]
    },
    {
     "name": "stderr",
     "output_type": "stream",
     "text": [
      "100%|████████████████████████████████████████████████████████████████████████████████████| 6/6 [00:06<00:00,  1.05s/it]\n"
     ]
    },
    {
     "name": "stdout",
     "output_type": "stream",
     "text": [
      "test Loss: 1.6944 Acc: 0.4333\n",
      "Epoch 3/9\n",
      "----------\n"
     ]
    },
    {
     "name": "stderr",
     "output_type": "stream",
     "text": [
      "100%|██████████████████████████████████████████████████████████████████████████████████| 14/14 [00:17<00:00,  1.22s/it]\n"
     ]
    },
    {
     "name": "stdout",
     "output_type": "stream",
     "text": [
      "train Loss: 1.8678 Acc: 0.3143\n"
     ]
    },
    {
     "name": "stderr",
     "output_type": "stream",
     "text": [
      "100%|████████████████████████████████████████████████████████████████████████████████████| 6/6 [00:04<00:00,  1.31it/s]\n"
     ]
    },
    {
     "name": "stdout",
     "output_type": "stream",
     "text": [
      "test Loss: 1.8578 Acc: 0.1667\n",
      "Epoch 4/9\n",
      "----------\n"
     ]
    },
    {
     "name": "stderr",
     "output_type": "stream",
     "text": [
      "100%|██████████████████████████████████████████████████████████████████████████████████| 14/14 [00:14<00:00,  1.04s/it]\n"
     ]
    },
    {
     "name": "stdout",
     "output_type": "stream",
     "text": [
      "train Loss: 1.7751 Acc: 0.3333\n"
     ]
    },
    {
     "name": "stderr",
     "output_type": "stream",
     "text": [
      "100%|████████████████████████████████████████████████████████████████████████████████████| 6/6 [00:04<00:00,  1.48it/s]\n"
     ]
    },
    {
     "name": "stdout",
     "output_type": "stream",
     "text": [
      "test Loss: 1.7423 Acc: 0.4333\n",
      "Epoch 5/9\n",
      "----------\n"
     ]
    },
    {
     "name": "stderr",
     "output_type": "stream",
     "text": [
      "100%|██████████████████████████████████████████████████████████████████████████████████| 14/14 [00:14<00:00,  1.05s/it]\n"
     ]
    },
    {
     "name": "stdout",
     "output_type": "stream",
     "text": [
      "train Loss: 1.7785 Acc: 0.3238\n"
     ]
    },
    {
     "name": "stderr",
     "output_type": "stream",
     "text": [
      "100%|████████████████████████████████████████████████████████████████████████████████████| 6/6 [00:04<00:00,  1.43it/s]\n"
     ]
    },
    {
     "name": "stdout",
     "output_type": "stream",
     "text": [
      "test Loss: 1.7532 Acc: 0.4333\n",
      "Epoch 6/9\n",
      "----------\n"
     ]
    },
    {
     "name": "stderr",
     "output_type": "stream",
     "text": [
      "100%|██████████████████████████████████████████████████████████████████████████████████| 14/14 [00:14<00:00,  1.03s/it]\n"
     ]
    },
    {
     "name": "stdout",
     "output_type": "stream",
     "text": [
      "train Loss: 1.6710 Acc: 0.3905\n"
     ]
    },
    {
     "name": "stderr",
     "output_type": "stream",
     "text": [
      "100%|████████████████████████████████████████████████████████████████████████████████████| 6/6 [00:04<00:00,  1.38it/s]\n"
     ]
    },
    {
     "name": "stdout",
     "output_type": "stream",
     "text": [
      "test Loss: 1.6713 Acc: 0.4333\n",
      "Epoch 7/9\n",
      "----------\n"
     ]
    },
    {
     "name": "stderr",
     "output_type": "stream",
     "text": [
      "100%|██████████████████████████████████████████████████████████████████████████████████| 14/14 [00:14<00:00,  1.02s/it]\n"
     ]
    },
    {
     "name": "stdout",
     "output_type": "stream",
     "text": [
      "train Loss: 1.6473 Acc: 0.3714\n"
     ]
    },
    {
     "name": "stderr",
     "output_type": "stream",
     "text": [
      "100%|████████████████████████████████████████████████████████████████████████████████████| 6/6 [00:04<00:00,  1.32it/s]\n"
     ]
    },
    {
     "name": "stdout",
     "output_type": "stream",
     "text": [
      "test Loss: 1.7282 Acc: 0.4333\n",
      "Epoch 8/9\n",
      "----------\n"
     ]
    },
    {
     "name": "stderr",
     "output_type": "stream",
     "text": [
      "100%|██████████████████████████████████████████████████████████████████████████████████| 14/14 [00:14<00:00,  1.03s/it]\n"
     ]
    },
    {
     "name": "stdout",
     "output_type": "stream",
     "text": [
      "train Loss: 1.5765 Acc: 0.3810\n"
     ]
    },
    {
     "name": "stderr",
     "output_type": "stream",
     "text": [
      "100%|████████████████████████████████████████████████████████████████████████████████████| 6/6 [00:04<00:00,  1.37it/s]\n"
     ]
    },
    {
     "name": "stdout",
     "output_type": "stream",
     "text": [
      "test Loss: 1.7496 Acc: 0.4333\n",
      "Epoch 9/9\n",
      "----------\n"
     ]
    },
    {
     "name": "stderr",
     "output_type": "stream",
     "text": [
      "100%|██████████████████████████████████████████████████████████████████████████████████| 14/14 [00:14<00:00,  1.04s/it]\n"
     ]
    },
    {
     "name": "stdout",
     "output_type": "stream",
     "text": [
      "train Loss: 1.6041 Acc: 0.3810\n"
     ]
    },
    {
     "name": "stderr",
     "output_type": "stream",
     "text": [
      "100%|████████████████████████████████████████████████████████████████████████████████████| 6/6 [00:04<00:00,  1.50it/s]"
     ]
    },
    {
     "name": "stdout",
     "output_type": "stream",
     "text": [
      "test Loss: 1.6307 Acc: 0.4333\n",
      "Training complete in 3m 23s\n",
      "Best val Acc: 0.433333\n"
     ]
    },
    {
     "name": "stderr",
     "output_type": "stream",
     "text": [
      "\n"
     ]
    }
   ],
   "source": [
    "#train and evaluate\n",
    "#wts = torch.tensor([0.48, 0.15, 0.11, 0.2, 0.06]).to(device)\n",
    "\n",
    "#criterion = nn.CrossEntropyLoss(weight=loss_weight)3 with weighted loss\n",
    "criterion = nn.CrossEntropyLoss()  # without weighted loss\n",
    "optimizer_ft = optim.SGD(model_ft.parameters(), lr=0.001, momentum=0.9)\n",
    "\n",
    "# Decay LR by a factor of 0.1 every 7 epochs\n",
    "#exp_lr_scheduler = lr_scheduler.StepLR(optimizer_ft, step_size=7, gamma=0.9)\n",
    "exp_lr_scheduler = lr_scheduler.StepLR(optimizer_ft, step_size=7, gamma=0.9)\n",
    "num_epochs=10\n",
    "model_ft, result = train_model(model_ft, criterion, optimizer_ft, exp_lr_scheduler,\n",
    "                       num_epochs=num_epochs)"
   ]
  },
  {
   "cell_type": "code",
   "execution_count": 31,
   "id": "06ab3888-795e-4fc9-856d-91af8313240e",
   "metadata": {},
   "outputs": [],
   "source": [
    "train_accuracy = [x.cpu() for x in result['train_acc']]\n",
    "test_accuracy = [x.cpu() for x in result['valid_acc']]"
   ]
  },
  {
   "cell_type": "code",
   "execution_count": 32,
   "id": "1250ae35-a30b-49ce-91dc-a843ae8e5803",
   "metadata": {},
   "outputs": [
    {
     "data": {
      "image/png": "[encoded data removed]",
      "text/plain": [
       "<Figure size 432x288 with 1 Axes>"
      ]
     },
     "metadata": {
      "needs_background": "light"
     },
     "output_type": "display_data"
    }
   ],
   "source": [
    "\n",
    "#plotting the performace\n",
    "fig, ax = plt.subplots()\n",
    "train_acc,  = ax.plot(train_accuracy, label='train accuracy')\n",
    "valid_acc,  = ax.plot(test_accuracy, label='validation accuracy')\n",
    "\n",
    "#l1,  = ax.plot([1,2,3], label=\"Line 1\")\n",
    "#l2, = ax.plot([2,3,4], label=\"Line 2\")\n",
    "ax.legend(handles=[train_acc, valid_acc], loc='lower right')\n",
    "\n",
    "plt.show()"
   ]
  },
  {
   "cell_type": "code",
   "execution_count": null,
   "id": "8c868b5e-a660-42fb-b75d-7da3e6b59c1e",
   "metadata": {},
   "outputs": [],
   "source": []
  },
  {
   "cell_type": "code",
   "execution_count": null,
   "id": "92e0ea99-e28f-4cb3-82d7-a61dff2b3c17",
   "metadata": {},
   "outputs": [],
   "source": [
    "I need to prepare proper dataset\n",
    "\n",
    "Need to prepare the test script to produce csv result from the video\n",
    "then work on the visual data generation\n",
    "implementation of kmeans clusturing and differnt visualization method for showing proper data analysis."
   ]
  }
 ],
 "metadata": {
  "kernelspec": {
   "display_name": "Python 3 (ipykernel)",
   "language": "python",
   "name": "python3"
  },
  "language_info": {
   "codemirror_mode": {
    "name": "ipython",
    "version": 3
   },
   "file_extension": ".py",
   "mimetype": "text/x-python",
   "name": "python",
   "nbconvert_exporter": "python",
   "pygments_lexer": "ipython3",
   "version": "3.9.12"
  }
 },
 "nbformat": 4,
 "nbformat_minor": 5
}
